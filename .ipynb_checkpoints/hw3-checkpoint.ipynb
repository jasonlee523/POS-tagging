{
 "cells": [
  {
   "cell_type": "code",
   "execution_count": 1,
   "metadata": {},
   "outputs": [],
   "source": [
    "import os\n",
    "import re\n",
    "import sys\n",
    "import numpy as np\n",
    "reload(sys)\n",
    "sys.setdefaultencoding('utf-8')"
   ]
  },
  {
   "cell_type": "code",
   "execution_count": 2,
   "metadata": {},
   "outputs": [],
   "source": [
    "pos_dict = {} # NN -> dog 0.5, cat 0.3, etc\n",
    "state_dict = {} # Begin_S -> DT 0.5, JJ 0.3, etc\n",
    "# special_letters = [\"(\",\")\",\"\\'\\'\",\"``\",\",\",\"#\",\"$\",\":\"]\n",
    "previous_pos = \"Begin_Sent\"\n",
    "set_pos_tags = set([\"Begin_Sent\",\"End_Sent\"])\n",
    "total_count = 0\n",
    "\n",
    "with open(\"/Users/jason/Downloads/hw3 2/WSJ_02-21.pos\") as instream:\n",
    "    for line in instream:\n",
    "        line = line.strip(os.linesep)\n",
    "        line = line.rstrip()\n",
    "        line = line.split(\"\\t\")\n",
    "        if len(line) != 2:\n",
    "            previous_pos = \"Begin_Sent\"\n",
    "            continue\n",
    "        word, pos = line            \n",
    "        \n",
    "        # Fill up the POS Dict\n",
    "        cur_dict = pos_dict.get(pos, {})        \n",
    "        cur_dict[word] =  cur_dict.get(word,0)+1\n",
    "        pos_dict[pos] = cur_dict\n",
    "        set_pos_tags.add(pos)\n",
    "        \n",
    "        \n",
    "        # Fill up the previous state Dict\n",
    "        cur_dict = state_dict.get(previous_pos, {})\n",
    "        cur_dict[pos] = cur_dict.get(pos, 0)+1\n",
    "        state_dict[previous_pos] = cur_dict\n",
    "        \n",
    "        \n",
    "        \n",
    "        previous_pos = pos\n"
   ]
  },
  {
   "cell_type": "code",
   "execution_count": 3,
   "metadata": {},
   "outputs": [],
   "source": [
    "with open(\"/Users/jason/Downloads/hw3 2/WSJ_24.pos\") as instream:\n",
    "    for line in instream:\n",
    "        line = line.strip(os.linesep)\n",
    "        line = line.rstrip()\n",
    "        line = line.split(\"\\t\")\n",
    "        if len(line) != 2:\n",
    "            previous_pos = \"Begin_Sent\"\n",
    "            continue\n",
    "        word, pos = line            \n",
    "        \n",
    "        # Fill up the POS Dict\n",
    "        cur_dict = pos_dict.get(pos, {})        \n",
    "        cur_dict[word] =  cur_dict.get(word,0)+1\n",
    "        pos_dict[pos] = cur_dict\n",
    "        set_pos_tags.add(pos)\n",
    "        \n",
    "        \n",
    "        # Fill up the previous state Dict\n",
    "        cur_dict = state_dict.get(previous_pos, {})\n",
    "        cur_dict[pos] = cur_dict.get(pos, 0)+1\n",
    "        state_dict[previous_pos] = cur_dict\n",
    "        \n",
    "        \n",
    "        \n",
    "        previous_pos = pos"
   ]
  },
  {
   "cell_type": "code",
   "execution_count": 4,
   "metadata": {},
   "outputs": [],
   "source": [
    "# Converting the dict into percentages\n",
    "for _,cur_dict in pos_dict.iteritems():\n",
    "    count = 0.\n",
    "    for key, value in cur_dict.iteritems():\n",
    "        count += value\n",
    "    for key,value in cur_dict.iteritems():\n",
    "        cur_dict[key] = float(value)/count\n",
    "\n",
    "for _,cur_dict in state_dict.iteritems():\n",
    "    count = 0.\n",
    "    for key, value in cur_dict.iteritems():\n",
    "        count += value\n",
    "    for key,value in cur_dict.iteritems():\n",
    "        cur_dict[key] = float(value)/count        "
   ]
  },
  {
   "cell_type": "code",
   "execution_count": 5,
   "metadata": {},
   "outputs": [],
   "source": [
    "# len(oov_counts)"
   ]
  },
  {
   "cell_type": "code",
   "execution_count": 6,
   "metadata": {},
   "outputs": [],
   "source": [
    "# dist_dict"
   ]
  },
  {
   "cell_type": "code",
   "execution_count": null,
   "metadata": {},
   "outputs": [],
   "source": []
  },
  {
   "cell_type": "code",
   "execution_count": 7,
   "metadata": {},
   "outputs": [],
   "source": [
    "# dist_dict"
   ]
  },
  {
   "cell_type": "code",
   "execution_count": 8,
   "metadata": {},
   "outputs": [],
   "source": [
    "sentences = []\n",
    "with open(\"/Users/jason/Downloads/hw3 2/WSJ_23.words\") as instream:\n",
    "    sent = []\n",
    "    for line in instream:\n",
    "        word = line.strip(os.linesep)\n",
    "        if word == \"\": \n",
    "            sentences.append(sent)\n",
    "            sent = []\n",
    "            continue            \n",
    "        else:\n",
    "            sent.append(word)"
   ]
  },
  {
   "cell_type": "code",
   "execution_count": 9,
   "metadata": {},
   "outputs": [],
   "source": [
    "# pos_dict"
   ]
  },
  {
   "cell_type": "code",
   "execution_count": 10,
   "metadata": {},
   "outputs": [],
   "source": [
    "pos_tags = list(set_pos_tags)\n",
    "for x in range(len(pos_tags)):\n",
    "    if pos_tags[x] == \".\":\n",
    "        end_sent_tag = x"
   ]
  },
  {
   "cell_type": "code",
   "execution_count": 11,
   "metadata": {},
   "outputs": [],
   "source": [
    "def state_to_string(state_num):\n",
    "    state_str = []\n",
    "    for num in state_num:\n",
    "        if num == 999:\n",
    "            state_str.append(\".\")\n",
    "        else:\n",
    "            state_str.append(pos_tags[num])\n",
    "    return state_str\n",
    "\n",
    "def process_oov_words(tag, word, previous_pos,word_val):    \n",
    "    if tag.isalpha() and not word.isalpha():\n",
    "        word_val = 0.\n",
    "    elif tag == \"NNP\" and word[0].isupper() and previous_pos != \"Begin_Sent\":\n",
    "        word_val = 1. #if word starts with caps lock and is OOV then it's probably NNP\n",
    "    elif tag == \"NNP\" and not word[0].isupper():\n",
    "        word_val = 0.\n",
    "\n",
    "    return word_val\n",
    "\n",
    "\n",
    "def find_max_of_last(matrix,prev_tags,num_tags):    \n",
    "    max_end_val = -1\n",
    "    max_end_prev = -1\n",
    "    for a in range(num_tags):\n",
    "        if (matrix[a,num_words-1] > max_end_val):\n",
    "            max_end_val = matrix[a,num_words-1]\n",
    "            max_end_prev = prev_tags[a,num_words-1]\n",
    "            \n",
    "    return max_end_val, max_end_prev"
   ]
  },
  {
   "cell_type": "code",
   "execution_count": null,
   "metadata": {},
   "outputs": [],
   "source": [
    "# oov_counts.get(\"NNS\")"
   ]
  },
  {
   "cell_type": "code",
   "execution_count": null,
   "metadata": {},
   "outputs": [],
   "source": [
    "counter = 0\n",
    "all_states = []\n",
    "for sentence in sentences:\n",
    "    counter += 1\n",
    "#     if counter > 10: break\n",
    "    num_tags = len(pos_tags)\n",
    "    num_words = len(sentence)+2\n",
    "    matrix = np.zeros([num_tags,num_words],dtype=float)\n",
    "    prev_tags = np.zeros([num_tags,num_words],dtype=int) \n",
    "\n",
    "\n",
    "    #Fill up the beginning of the sentence\n",
    "    for x in range(len(pos_tags)):\n",
    "        if pos_tags[x] == \"Begin_Sent\":\n",
    "            matrix[x,0] = 1\n",
    "\n",
    "    previous_pos = \"Begin_Sent\"\n",
    "\n",
    "\n",
    "    for y in range(1,num_words):        \n",
    "        \n",
    "        # Handling the end\n",
    "        if y == num_words-1:\n",
    "            for z in range(len(pos_tags)):\n",
    "                previous_pos = pos_tags[z]            \n",
    "                if previous_pos == \"End_Sent\": continue                \n",
    "                cur_val = state_dict[previous_pos].get(pos_tags[end_sent_tag],0) * matrix[z,y-1]\n",
    "                cur_max = matrix[x,y]\n",
    "\n",
    "                if (cur_val > cur_max):\n",
    "                    matrix[x,y] = cur_val\n",
    "                    prev_tags[x,y] = z\n",
    "            break\n",
    "\n",
    "        for x in range(len(pos_tags)):                \n",
    "\n",
    "    #       All other cases    \n",
    "            word = sentence[y-1]\n",
    "            tag = pos_tags[x]\n",
    "            if tag == \"Begin_Sent\" or tag == \"End_Sent\": \n",
    "                matrix[x,y] = 0\n",
    "                continue\n",
    "            word_val = pos_dict[tag].get(word,1./1000)\n",
    "            \n",
    "            for z in range(len(pos_tags)):\n",
    "                previous_pos = pos_tags[z]                 \n",
    "                if previous_pos == \"End_Sent\": \n",
    "                    continue\n",
    "                elif tag == \"End_Sent\":\n",
    "                    break\n",
    "                state_transition_val = state_dict[previous_pos].get(tag,0)\n",
    "                if state_transition_val == 0: continue #if the transition isn't possible then continue\n",
    "\n",
    "                if (word_val == 1./1000): # OOV word                    \n",
    "                    word_val = process_oov_words(tag, word, previous_pos,word_val)\n",
    "                if word_val == 0: continue\n",
    "                \n",
    "                cur_val = state_transition_val * word_val * matrix[z,y-1]\n",
    "                cur_max = matrix[x,y]\n",
    "\n",
    "                if (cur_val > cur_max):\n",
    "                    matrix[x,y] = cur_val\n",
    "                    prev_tags[x,y] = z\n",
    "                    \n",
    "    max_end_val,max_end_prev = find_max_of_last(matrix,prev_tags,num_tags)\n",
    "\n",
    "    states = np.zeros(num_words,dtype=int)\n",
    "    states[num_words-1] = 999\n",
    "    previous = max_end_prev\n",
    "    for x in range(num_words-2,-1,-1):\n",
    "        states[x] = previous\n",
    "        previous = prev_tags[previous, x]\n",
    "        \n",
    "    state = state_to_string(states) \n",
    "    state = state[1:-1]\n",
    "    all_states.append(state)"
   ]
  },
  {
   "cell_type": "code",
   "execution_count": null,
   "metadata": {},
   "outputs": [],
   "source": []
  },
  {
   "cell_type": "code",
   "execution_count": null,
   "metadata": {},
   "outputs": [],
   "source": [
    "myfile = open(\"/Users/jason/Downloads/hw3 2/jjl.pos\",\"w\") \n",
    "for n in range(len(all_states)):\n",
    "    state = all_states[n]\n",
    "    sent = sentences[n]\n",
    "    for x in range(len(state)):\n",
    "        myfile.write(\"{}\\t{}\\n\".format(sent[x],state[x]))\n",
    "    myfile.write(\"\\n\")\n",
    "myfile.close()\n"
   ]
  },
  {
   "cell_type": "code",
   "execution_count": null,
   "metadata": {},
   "outputs": [],
   "source": []
  }
 ],
 "metadata": {
  "kernelspec": {
   "display_name": "Python 2",
   "language": "python",
   "name": "python2"
  },
  "language_info": {
   "codemirror_mode": {
    "name": "ipython",
    "version": 2
   },
   "file_extension": ".py",
   "mimetype": "text/x-python",
   "name": "python",
   "nbconvert_exporter": "python",
   "pygments_lexer": "ipython2",
   "version": "2.7.14"
  }
 },
 "nbformat": 4,
 "nbformat_minor": 2
}
